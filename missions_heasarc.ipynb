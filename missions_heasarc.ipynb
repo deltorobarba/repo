{
  "nbformat": 4,
  "nbformat_minor": 0,
  "metadata": {
    "colab": {
      "provenance": [],
      "machine_shape": "hm",
      "authorship_tag": "ABX9TyP1r527x5QwFIcGFRrbRKqo",
      "include_colab_link": true
    },
    "kernelspec": {
      "name": "python3",
      "display_name": "Python 3"
    },
    "language_info": {
      "name": "python"
    }
  },
  "cells": [
    {
      "cell_type": "markdown",
      "metadata": {
        "id": "view-in-github",
        "colab_type": "text"
      },
      "source": [
        "<a href=\"https://colab.research.google.com/github/deltorobarba/repo/blob/main/missions_heasarc.ipynb\" target=\"_parent\"><img src=\"https://colab.research.google.com/assets/colab-badge.svg\" alt=\"Open In Colab\"/></a>"
      ]
    },
    {
      "cell_type": "markdown",
      "source": [
        "# **HEASARC** (Ultraviolet, X-Ray, Gamma Ray)"
      ],
      "metadata": {
        "id": "TGNiRS1ZyYCT"
      }
    },
    {
      "cell_type": "markdown",
      "source": [
        "![sciences](https://raw.githubusercontent.com/deltorobarba/repo/master/sciences_2000.png)"
      ],
      "metadata": {
        "id": "Dn77k_mLjlSd"
      }
    },
    {
      "cell_type": "code",
      "source": [
        "!pip install astropy astroquery requests reproject -q\n",
        "from astropy import units as u\n",
        "from astropy.coordinates import SkyCoord\n",
        "from astroquery.simbad import Simbad\n",
        "from astropy import coordinates\n",
        "from astropy.io import fits\n",
        "from astropy.nddata import Cutout2D\n",
        "from astropy.wcs import WCS\n",
        "import numpy as np\n",
        "import matplotlib.pyplot as plt\n",
        "from astropy import coordinates as coords\n",
        "from reproject import reproject_interp\n",
        "import matplotlib.pyplot as plt"
      ],
      "metadata": {
        "id": "Ao-8AhHowx7w"
      },
      "execution_count": null,
      "outputs": []
    },
    {
      "cell_type": "code",
      "source": [
        "# Some tasks like multi-wavelength astronomy require high memory to load data\n",
        "from psutil import virtual_memory\n",
        "ram_gb = virtual_memory().total / 1e9\n",
        "print('Runtime: {:.1f} gigabytes of available RAM (>20 GB ideal)\\n'.format(ram_gb))"
      ],
      "metadata": {
        "colab": {
          "base_uri": "https://localhost:8080/"
        },
        "id": "Ky-1SFgBy7UQ",
        "outputId": "fb99c6ec-75af-4951-c324-d02ab2e9c72c"
      },
      "execution_count": null,
      "outputs": [
        {
          "output_type": "stream",
          "name": "stdout",
          "text": [
            "Runtime: 54.8 gigabytes of available RAM (>20 GB ideal)\n",
            "\n"
          ]
        }
      ]
    },
    {
      "cell_type": "markdown",
      "source": [
        "#### **Define astronomical object and get skycoordinates**"
      ],
      "metadata": {
        "id": "cX_ks1SiqavT"
      }
    },
    {
      "cell_type": "code",
      "source": [
        "# Define object\n",
        "object_name = 'M51'"
      ],
      "metadata": {
        "id": "xL1TP3BJmyoE"
      },
      "execution_count": null,
      "outputs": []
    },
    {
      "cell_type": "markdown",
      "source": [
        "*e.g. M31 (Andromeda galaxy), M104 (Sombrero galaxy), M51 (Whirlpool galaxy), M42 (Orion nebula), NGC 3372 (Carina nebula)*"
      ],
      "metadata": {
        "id": "7SW5Qozr0h57"
      }
    },
    {
      "cell_type": "code",
      "source": [
        "# Get and set skycoordinates of object\n",
        "from astroquery.simbad import Simbad\n",
        "from astropy.coordinates import SkyCoord\n",
        "\n",
        "skyobject = Simbad.query_object(object_name)\n",
        "ra_hms = skyobject['RA'][0]\n",
        "dec_dms = skyobject['DEC'][0]\n",
        "coord = SkyCoord(ra=ra_hms, dec=dec_dms, unit=('hourangle', 'deg'), frame='icrs')\n",
        "print(skyobject)\n",
        "print(\"\\nCoordinates:\")\n",
        "print(\"RA (h:m:s):\", ra_hms)\n",
        "print(\"DEC (d:m:s):\", dec_dms)"
      ],
      "metadata": {
        "colab": {
          "base_uri": "https://localhost:8080/"
        },
        "id": "Rkl4u8RvoJ8E",
        "outputId": "cedf95ba-73a1-4a51-af21-5b9aac969529"
      },
      "execution_count": null,
      "outputs": [
        {
          "output_type": "stream",
          "name": "stdout",
          "text": [
            "MAIN_ID      RA          DEC      RA_PREC ... COO_WAVELENGTH     COO_BIBCODE     SCRIPT_NUMBER_ID\n",
            "          \"h:m:s\"      \"d:m:s\"            ...                                                    \n",
            "------- ------------ ------------ ------- ... -------------- ------------------- ----------------\n",
            "  M  51 13 29 52.698 +47 11 42.93       7 ...              I 2006AJ....131.1163S                1\n",
            "\n",
            "Coordinates:\n",
            "RA (h:m:s): 13 29 52.698\n",
            "DEC (d:m:s): +47 11 42.93\n"
          ]
        }
      ]
    },
    {
      "cell_type": "code",
      "source": [
        "# Convert from Right Ascension (RA) and Declination (DEC) to decimal degree\n",
        "coord = SkyCoord(ra=ra_hms, dec=dec_dms, unit=('hourangle', 'deg'), frame='icrs')\n",
        "ra_deg = coord.ra.deg # round(coord.ra.deg, 2)\n",
        "dec_deg = coord.dec.deg # round(coord.dec.deg, 2)\n",
        "\n",
        "print(\"RA in degrees:\", ra_deg)\n",
        "print(\"DEC in degrees:\", dec_deg)"
      ],
      "metadata": {
        "colab": {
          "base_uri": "https://localhost:8080/"
        },
        "id": "9Kk7HpYI1-JW",
        "outputId": "a381ac3d-b40a-4107-a261-0bb82a3720a5"
      },
      "execution_count": null,
      "outputs": [
        {
          "output_type": "stream",
          "name": "stdout",
          "text": [
            "RA in degrees: 202.46957499999996\n",
            "DEC in degrees: 47.19525833333333\n"
          ]
        }
      ]
    },
    {
      "cell_type": "code",
      "source": [
        "# Convert from decimal degree to Right Ascension (RA) and Declination (DEC)\n",
        "coord = SkyCoord(ra=ra_deg, dec=dec_deg, unit='deg', frame='icrs')\n",
        "\n",
        "# RA: hours, minutes, seconds. DEC: degrees, arcminutes, arcseconds\n",
        "ra_hms = coord.ra.to_string(unit='hour', sep=' ', precision=3, pad=True)\n",
        "dec_dms = coord.dec.to_string(unit='deg', sep=' ', precision=2, alwayssign=True, pad=True)\n",
        "\n",
        "print(\"RA (h:m:s):\", ra_hms)\n",
        "print(\"DEC (d:m:s):\", dec_dms)"
      ],
      "metadata": {
        "colab": {
          "base_uri": "https://localhost:8080/"
        },
        "id": "kCXustN52CaR",
        "outputId": "fc88967b-8a3f-402c-bba6-5fa06b58f6e5"
      },
      "execution_count": null,
      "outputs": [
        {
          "output_type": "stream",
          "name": "stdout",
          "text": [
            "RA (h:m:s): 13 29 52.698\n",
            "DEC (d:m:s): +47 11 42.93\n"
          ]
        }
      ]
    },
    {
      "cell_type": "code",
      "source": [
        "# Reverse check to see to which object the coordinates belong\n",
        "coord = SkyCoord(ra=ra_hms, dec=dec_dms, unit=('hourangle', 'deg'), frame='icrs')\n",
        "result = Simbad.query_region(coord, radius='0d0m5s')  # Search within a small radius (5 arcseconds)\n",
        "if result:\n",
        "    print(result['MAIN_ID'][0])  # Show main name of the object\n",
        "else:\n",
        "    print(\"No object found in SIMBAD at these coordinates.\")\n",
        "object_name = 'MAIN_ID'"
      ],
      "metadata": {
        "colab": {
          "base_uri": "https://localhost:8080/"
        },
        "id": "SWpSB9A-2Fd3",
        "outputId": "df6726e4-fa89-4d73-be63-6d6bbbf4cd33"
      },
      "execution_count": null,
      "outputs": [
        {
          "output_type": "stream",
          "name": "stdout",
          "text": [
            "M  51\n"
          ]
        }
      ]
    },
    {
      "cell_type": "markdown",
      "source": [
        "frame='icrs' refers to [International Celestial Ref. System](https://aa.usno.navy.mil/faq/ICRS_doc)\n",
        "*  Origin is barycenter of Solar System. This means ICRS origin is not fixed to Earth but moves with Solar System's center of mass.\n",
        "* Axes are defined by the positions of extragalactic sources, primarily quasars observed using Very Long Baseline Interferometry (VLBI). The primary plane is as close as possible to the mean equator at J2000.0 (January 1, 2000, 12:00 TT).  The origin of right ascension is close to the dynamical equinox of J2000.0.\n",
        "* Accuracy: The ICRF3 defines the ICRS axes with an accuracy of about 20 microarcseconds.\n",
        "* Realization: The International Celestial Reference Frame (ICRF) is a catalog of precise positions of extragalactic sources that provides a practical realization of the ICRS. The latest version, ICRF3, includes the positions of over 4000 extragalactic sources, mostly quasars. The ICRF is maintained by the International Earth Rotation and Reference Systems Service (IERS).\n",
        "* Relationship to other systems: ICRS is closely aligned with the J2000 equatorial coordinate system, but it's more accurate and stable. Transformations exist to convert coordinates between ICRS and other celestial reference systems"
      ],
      "metadata": {
        "id": "ftaS2cfm3Qnk"
      }
    },
    {
      "cell_type": "code",
      "source": [
        "# Set coordinates manually and verify correct object\n",
        "coord = SkyCoord('189.9976d -11.623054d', frame='icrs')\n",
        "result = Simbad.query_region(coord, radius='0d0m5s')  # Search within a small radius (5 arcseconds)\n",
        "if result:\n",
        "    print(result['MAIN_ID'][0])  # Show main name of the object\n",
        "else:\n",
        "    print(\"No object found in SIMBAD at these coordinates.\")\n",
        "object_name = 'MAIN_ID'"
      ],
      "metadata": {
        "id": "PRRdYduusf5q",
        "colab": {
          "base_uri": "https://localhost:8080/"
        },
        "outputId": "852e2884-db99-4a4c-9d7b-84c602ebc5e4"
      },
      "execution_count": null,
      "outputs": [
        {
          "output_type": "stream",
          "name": "stdout",
          "text": [
            "M 104\n"
          ]
        }
      ]
    },
    {
      "cell_type": "markdown",
      "source": [
        "#### **HEASARC (Ultraviolet, X-Ray, Gamma Ray)**"
      ],
      "metadata": {
        "id": "4DznsWtYprUq"
      }
    },
    {
      "cell_type": "markdown",
      "source": [
        "HEASARC (High Energy Astrophysics Science Archive Research Center): data from missions observing the high-energy universe, like X-rays and gamma rays. Like black holes, supernovas, and active galaxies\n",
        "* Missions: Chandra, XMM-Newton, Swift, Fermi, NuSTAR\n",
        "* Website: heasarc.gsfc.nasa.gov\n",
        "\n",
        "https://astroquery.readthedocs.io/en/latest/heasarc/heasarc.html"
      ],
      "metadata": {
        "id": "LuFlSBKzp6gy"
      }
    },
    {
      "cell_type": "code",
      "source": [
        "# Query all available missions from library\n",
        "from astroquery.heasarc import Heasarc\n",
        "heasarc = Heasarc()\n",
        "missions = heasarc.query_mission_list()\n",
        "print(missions)"
      ],
      "metadata": {
        "colab": {
          "base_uri": "https://localhost:8080/"
        },
        "id": "mNTQaiaGm3_y",
        "outputId": "4d25cb07-751a-46c2-fa94-79d2102b33a5"
      },
      "execution_count": null,
      "outputs": [
        {
          "output_type": "stream",
          "name": "stdout",
          "text": [
            " Mission     Table                                  Table Description                               \n",
            "---------- ---------- ------------------------------------------------------------------------------\n",
            "     AGILE   agilecat                       First AGILE Catalog of High-Confidence Gamma-Ray Sources\n",
            "     AGILE agileupvar              Updated AGILE Catalog of Bright Gamma-Ray Sources and Variability\n",
            "     AKARI   akaribsc                      AKARI/FIS All-Sky Survey Bright Source Catalog, Version 1\n",
            "     AKARI   akaripsc                       AKARI/IRC All-Sky Survey Point Source Catalog, Version 1\n",
            "       ANS ansuvpscat                            ANS Ultraviolet Photometry Catalog of Point Sources\n",
            "   ARIEL V    ariel3a                                                        3rd Ariel-V SSI Catalog\n",
            "   ARIEL V     ariel5                                                        Ariel V All-Sky Monitor\n",
            "      ASCA ascaegclus                           ASCA Elliptical Galaxies and Galaxy Clusters Catalog\n",
            "      ASCA    ascagis                                     ASCA GIS Source Catalog (AMSS-I + AMSS-II)\n",
            "      ASCA    ascagps                              ASCA Galactic Plane Survey of Faint X-Ray Sources\n",
            "       ...        ...                                                                            ...\n",
            "XMM-NEWTON xmmssclwbd                        XMM-Newton 2XMMi-DR3 Selected Source Detections Catalog\n",
            "XMM-NEWTON xmmssclwbs                   XMM-Newton 2XMMi-DR3 Selected Source Classifications Catalog\n",
            "XMM-NEWTON   xmmstack XMM-Newton Serendipitous Source Catalog from Stacked Observations (4XMM-DR14s)\n",
            "XMM-NEWTON xmmstackob   XMM-Newton Serendipitous Source Catalog from Stacked Observations: Obs. Data\n",
            "XMM-NEWTON xmmt2flare                                        2XMM Flares Detected from Tycho-2 Stars\n",
            "XMM-NEWTON  xmmvaragn                                 Ensemble X-Ray Variability of AGN in 2XMMi-DR3\n",
            "XMM-NEWTON xmmxassist                                                 XMM-Newton XAssist Source List\n",
            "XMM-NEWTON        xms                      XMM-Newton Medium Sensitivity Survey (XMS) Source Catalog\n",
            "XMM-NEWTON       xwas                                                   XMM-Newton Wide Angle Survey\n",
            "     XRISM xrismmastr                                                           XRISM Master Catalog\n",
            "Length = 1189 rows\n"
          ]
        }
      ]
    },
    {
      "cell_type": "markdown",
      "source": [
        "Main X-ray missions:\n",
        "- `chanmaster`: Chandra Master Catalog\n",
        "- `csc2master`: Chandra Source Catalog 2.0\n",
        "- `xmmmaster`: XMM-Newton Master Catalog\n",
        "- `xmmssc`: XMM-Newton Serendipitous Source Catalog\n",
        "- `swiftmastr`: Swift Master Catalog\n",
        "- `swiftxrtspec`: Swift-XRT Spectral Database\n",
        "- `rass2rxs`: ROSAT All-Sky Survey Catalogs\n",
        "- `exomaster`: EXOSAT Master Catalog\n",
        "- `numaster`: NuSTAR Master Catalog\n",
        "\n",
        "For other wavelengths/multi-wavelength:\n",
        "- `fermimastr`: Fermi Master Catalog (gamma-ray)\n",
        "- `intmaster`: INTEGRAL Master Catalog (gamma-ray)\n",
        "- `suzamaster`: Suzaku Master Catalog\n",
        "- `hstadvize`: Hubble Space Telescope Pointed Observations (optical)\n",
        "- `jwstmaster`: James Webb Space Telescope Master Catalog (infrared)"
      ],
      "metadata": {
        "id": "VUcbVT_3m1Xl"
      }
    },
    {
      "cell_type": "code",
      "source": [
        "# Select mission\n",
        "mission='chanmaster' # try also 'swiftmastr'"
      ],
      "metadata": {
        "id": "aJMd8_Pmmz9P"
      },
      "execution_count": null,
      "outputs": []
    },
    {
      "cell_type": "code",
      "source": [
        "# Query all observations from selected mission (PI - Principal Investigator. Lead scientist for observation)\n",
        "mission_data = heasarc.query_object('*', mission)\n",
        "print(mission_data)"
      ],
      "metadata": {
        "colab": {
          "base_uri": "https://localhost:8080/"
        },
        "id": "ENifyPMkm5lp",
        "outputId": "239dfb1a-831c-4df4-bc59-f1e9540385d0"
      },
      "execution_count": null,
      "outputs": [
        {
          "output_type": "stream",
          "name": "stdout",
          "text": [
            "OBSID        STATUS        ...                    PI                    PUBLIC_DATE\n",
            "                           ...                                              mjd    \n",
            "----- -------------------- ... ---------------------------------------- -----------\n",
            " 6616 archived             ... Miller                                         54159\n",
            " 7587 archived             ... Canizares                                      54502\n",
            "28092 untriggered          ... Canizares                                          0\n",
            "29852 untriggered          ... Canizares                                          0\n",
            "28354 unobserved           ... Kargaltsev                                         0\n",
            "30481 untriggered          ... Canizares                                          0\n",
            "28775 untriggered          ... Canizares                                          0\n",
            "13814 archived             ... Kuntz                                          56576\n",
            "13842 archived             ... Baganoff                                       56133\n",
            "  ...                  ... ...                                      ...         ...\n",
            "12000 archived             ... Sambruna                                       55474\n",
            "12241 archived             ... Worrall                                        55817\n",
            "13853 archived             ... Baganoff                                       56128\n",
            " 4738 archived             ... Strickland                                     53425\n",
            "17732 archived             ... Leutenegger                                    58096\n",
            "22096 archived             ... Miniutti                                       58618\n",
            "15274 archived             ... Canizares                                      56948\n",
            "11753 archived             ... Machacek                                       55429\n",
            "15276 archived             ... Canizares                                      56965\n",
            " 1853 archived             ... Kuiper                                         52240\n",
            "Length = 1000 rows\n"
          ]
        }
      ]
    },
    {
      "cell_type": "code",
      "source": [
        "# Query a specific object in mission\n",
        "object_data = heasarc.query_object(object_name, mission)\n",
        "print(object_data)"
      ],
      "metadata": {
        "colab": {
          "base_uri": "https://localhost:8080/"
        },
        "id": "U090So2Gm703",
        "outputId": "22629792-0a50-4e31-88a1-957758c7ddd3"
      },
      "execution_count": null,
      "outputs": [
        {
          "output_type": "stream",
          "name": "stdout",
          "text": [
            "OBSID        STATUS        ... PUBLIC_DATE SEARCH_OFFSET_\n",
            "                           ...     mjd                   \n",
            "----- -------------------- ... ----------- --------------\n",
            " 9533 archived             ...       55169 0.000 (M104)\\n\n",
            " 9532 archived             ...       54952 0.500 (M104)\\n\n",
            " 1586 archived             ...       52431 0.135 (M104)\\n\n",
            "  407 archived             ...       51920 0.176 (M104)\\n\n"
          ]
        }
      ]
    },
    {
      "cell_type": "code",
      "source": [
        "# List all possible columns\n",
        "print(object_data.info)"
      ],
      "metadata": {
        "colab": {
          "base_uri": "https://localhost:8080/"
        },
        "id": "MFGF0Ahv8XAO",
        "outputId": "2fbd833d-93b4-4451-d371-4fe5c6b1f795"
      },
      "execution_count": null,
      "outputs": [
        {
          "output_type": "stream",
          "name": "stdout",
          "text": [
            "Available columns:\n",
            "<Table length=4>\n",
            "     name       dtype  unit  format\n",
            "-------------- ------- ---- -------\n",
            "         OBSID   int32             \n",
            "        STATUS bytes20             \n",
            "          NAME bytes50             \n",
            "            RA float64  deg {:9.5f}\n",
            "           DEC float64  deg {:9.5f}\n",
            "          TIME bytes16  mjd        \n",
            "      DETECTOR  bytes6             \n",
            "       GRATING  bytes4             \n",
            "      EXPOSURE float64    s {:5.0f}\n",
            "          TYPE  bytes3             \n",
            "            PI bytes40             \n",
            "   PUBLIC_DATE   int32  mjd        \n",
            "SEARCH_OFFSET_ bytes13             \n",
            "\n"
          ]
        }
      ]
    },
    {
      "cell_type": "code",
      "source": [
        "# Reduce to specific Query specific columns for an object\n",
        "specific_data = heasarc.query_object(object_name, mission, fields='OBSID,ra,dec,detector')\n",
        "print(specific_data)"
      ],
      "metadata": {
        "colab": {
          "base_uri": "https://localhost:8080/"
        },
        "id": "KoQTiQbSm9Y3",
        "outputId": "19329f77-6dfb-4b4b-d3e2-8c73c69f9279"
      },
      "execution_count": null,
      "outputs": [
        {
          "output_type": "stream",
          "name": "stdout",
          "text": [
            "OBSID     RA       DEC    DETECTOR SEARCH_OFFSET_\n",
            "         deg       deg                           \n",
            "----- --------- --------- -------- --------------\n",
            " 9533 189.99763 -11.62306   ACIS-I 0.000 (M104)\\n\n",
            " 1586 189.99583 -11.62444   ACIS-S 0.135 (M104)\\n\n",
            "  407 189.99500 -11.62444   ACIS-S 0.176 (M104)\\n\n",
            " 9532 189.99750 -11.61472   ACIS-I 0.500 (M104)\\n\n"
          ]
        }
      ]
    },
    {
      "cell_type": "code",
      "source": [
        "# Query Heasarc for object in a mission (e.g. M104 with chanmaster)\n",
        "heasarc = Heasarc()\n",
        "mission_result = heasarc.query_region(coord, mission, radius='0.2 deg')\n",
        "if mission_result is not None and len(mission_result) > 0:\n",
        "    print(f\"Found {len(mission_result)} {mission} observations:\")\n",
        "    for obs in mission_result:\n",
        "        print(f\"\\nObservation ID: {obs['OBSID']}\")\n",
        "        print(f\"https://cda.harvard.edu/chaser/startViewer.do?menuItem=details&obsid={obs['OBSID']}\")\n",
        "else:\n",
        "    print(\"No Chandra observations found\")"
      ],
      "metadata": {
        "id": "oiujGJ6Cm_M_",
        "colab": {
          "base_uri": "https://localhost:8080/"
        },
        "outputId": "d52831e6-4b2e-4f1e-efe4-03d0fda542aa"
      },
      "execution_count": null,
      "outputs": [
        {
          "output_type": "stream",
          "name": "stdout",
          "text": [
            "Found 4 chanmaster observations:\n",
            "\n",
            "Observation ID: 9533\n",
            "https://cda.harvard.edu/chaser/startViewer.do?menuItem=details&obsid=9533\n",
            "\n",
            "Observation ID: 9532\n",
            "https://cda.harvard.edu/chaser/startViewer.do?menuItem=details&obsid=9532\n",
            "\n",
            "Observation ID: 1586\n",
            "https://cda.harvard.edu/chaser/startViewer.do?menuItem=details&obsid=1586\n",
            "\n",
            "Observation ID: 407\n",
            "https://cda.harvard.edu/chaser/startViewer.do?menuItem=details&obsid=407\n"
          ]
        }
      ]
    },
    {
      "cell_type": "code",
      "source": [
        "# Downloaded a FITS file and visualize:\n",
        "def heasarc_image(fits_file):\n",
        "    with fits.open(fits_file) as hdul:\n",
        "        data = hdul[0].data\n",
        "        plt.figure(figsize=(10,10))\n",
        "        plt.imshow(data, cmap='viridis', origin='lower')\n",
        "        plt.colorbar()\n",
        "        plt.show()"
      ],
      "metadata": {
        "id": "iFn-em4P91A2"
      },
      "execution_count": null,
      "outputs": []
    }
  ]
}